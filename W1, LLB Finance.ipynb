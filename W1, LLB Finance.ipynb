{
 "cells": [
  {
   "cell_type": "markdown",
   "id": "28d49a5a-cf26-44b8-a558-e1a1a92e2892",
   "metadata": {},
   "source": [
    "LabLogBook Week01"
   ]
  },
  {
   "cell_type": "code",
   "execution_count": 4,
   "id": "82d45e22-0291-4d6c-b955-55289a699021",
   "metadata": {},
   "outputs": [
    {
     "name": "stdout",
     "output_type": "stream",
     "text": [
      "Last two digits of SID: 91\n",
      "Required number of vector elements: 91\n",
      "\n",
      "Vector created with np.arange(91):\n",
      "[ 0  1  2  3  4  5  6  7  8  9 10 11 12 13 14 15 16 17 18 19 20 21 22 23\n",
      " 24 25 26 27 28 29 30 31 32 33 34 35 36 37 38 39 40 41 42 43 44 45 46 47\n",
      " 48 49 50 51 52 53 54 55 56 57 58 59 60 61 62 63 64 65 66 67 68 69 70 71\n",
      " 72 73 74 75 76 77 78 79 80 81 82 83 84 85 86 87 88 89 90]\n",
      "\n",
      "2-d array with 1 row:\n",
      "[[ 0  1  2  3  4  5  6  7  8  9 10 11 12 13 14 15 16 17 18 19 20 21 22 23\n",
      "  24 25 26 27 28 29 30 31 32 33 34 35 36 37 38 39 40 41 42 43 44 45 46 47\n",
      "  48 49 50 51 52 53 54 55 56 57 58 59 60 61 62 63 64 65 66 67 68 69 70 71\n",
      "  72 73 74 75 76 77 78 79 80 81 82 83 84 85 86 87 88 89 90]]\n",
      "\n",
      "Copied array:\n",
      "[[ 0  1  2  3  4  5  6  7  8  9 10 11 12 13 14 15 16 17 18 19 20 21 22 23\n",
      "  24 25 26 27 28 29 30 31 32 33 34 35 36 37 38 39 40 41 42 43 44 45 46 47\n",
      "  48 49 50 51 52 53 54 55 56 57 58 59 60 61 62 63 64 65 66 67 68 69 70 71\n",
      "  72 73 74 75 76 77 78 79 80 81 82 83 84 85 86 87 88 89 90]]\n",
      "\n",
      "Shape of the array: (1, 91)\n",
      "Number of dimensions: 2\n"
     ]
    }
   ],
   "source": [
    "import numpy as np\n",
    "\n",
    "# Example 1: SID ending with 91 (greater than 10)\n",
    "sid_last_two = 91 \n",
    "vector_size = sid_last_two if sid_last_two >= 10 else sid_last_two + 100\n",
    "\n",
    "print(f\"Last two digits of SID: {sid_last_two}\")\n",
    "print(f\"Required number of vector elements: {vector_size}\")\n",
    "\n",
    "# Create vector using np.arange\n",
    "vector = np.arange(vector_size)\n",
    "print(f\"\\nVector created with np.arange({vector_size}):\")\n",
    "print(vector)\n",
    "\n",
    "# Change to 2-d array with 1 row\n",
    "matrix_a = vector.reshape(1, -1)\n",
    "print(f\"\\n2-d array with 1 row:\")\n",
    "print(matrix_a)\n",
    "\n",
    "# Save in another array\n",
    "another_array = matrix_a.copy()\n",
    "print(f\"\\nCopied array:\")\n",
    "print(another_array)\n",
    "\n",
    "# Check shape attribute value\n",
    "print(f\"\\nShape of the array: {another_array.shape}\")\n",
    "print(f\"Number of dimensions: {another_array.ndim}\")"
   ]
  }
 ],
 "metadata": {
  "kernelspec": {
   "display_name": "Python 3 (ipykernel)",
   "language": "python",
   "name": "python3"
  },
  "language_info": {
   "codemirror_mode": {
    "name": "ipython",
    "version": 3
   },
   "file_extension": ".py",
   "mimetype": "text/x-python",
   "name": "python",
   "nbconvert_exporter": "python",
   "pygments_lexer": "ipython3",
   "version": "3.12.4"
  }
 },
 "nbformat": 4,
 "nbformat_minor": 5
}
